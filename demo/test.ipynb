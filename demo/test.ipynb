{
 "cells": [
  {
   "cell_type": "code",
   "execution_count": null,
   "metadata": {},
   "outputs": [],
   "source": [
    "import irf\n",
    "from sklearn.datasets import load_boston, load_breast_cancer\n",
    "from irf.ensemble import (RandomForestClassifierWithWeights,\n",
    "                          RandomForestRegressorWithWeights)\n",
    "import numpy as np\n",
    "\n",
    "X = np.random.normal(0,0.1,1000).reshape(100,10)\n",
    "Z = np.zeros(100)\n",
    "Z[:50] = 1\n",
    "y = np.zeros(100)\n",
    "y[Z==1] = 1\n",
    "honest = np.zeros(100)\n",
    "full_y = np.concatenate([Z.reshape(100,1), honest.reshape(100,1), y.reshape(100,1)], axis = 1)\n",
    "\n",
    "rf = RandomForestClassifierWithWeights(criterion='gini')\n",
    "rf.fit(X, y)\n",
    "rf.predict_proba(X)"
   ]
  }
 ],
 "metadata": {
  "kernelspec": {
   "display_name": "Python3.7Test",
   "language": "python",
   "name": "python3.7test"
  },
  "language_info": {
   "codemirror_mode": {
    "name": "ipython",
    "version": 3
   },
   "file_extension": ".py",
   "mimetype": "text/x-python",
   "name": "python",
   "nbconvert_exporter": "python",
   "pygments_lexer": "ipython3",
   "version": "3.7.0"
  }
 },
 "nbformat": 4,
 "nbformat_minor": 2
}
